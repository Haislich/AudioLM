{
  "nbformat": 4,
  "nbformat_minor": 0,
  "metadata": {
    "colab": {
      "provenance": [],
      "gpuType": "T4"
    },
    "kernelspec": {
      "name": "python3",
      "display_name": "Python 3"
    },
    "language_info": {
      "name": "python"
    },
    "accelerator": "GPU"
  },
  "cells": [
    {
      "cell_type": "code",
      "source": [
        "from google.colab import drive\n",
        "drive.mount(\"/content/drive\")"
      ],
      "metadata": {
        "colab": {
          "base_uri": "https://localhost:8080/"
        },
        "id": "ZV3wbF6X_t63",
        "outputId": "b2efd48e-43d6-44c9-eece-7dc582b07888"
      },
      "execution_count": 13,
      "outputs": [
        {
          "output_type": "stream",
          "name": "stdout",
          "text": [
            "Mounted at /content/drive\n"
          ]
        }
      ]
    },
    {
      "cell_type": "code",
      "source": [
        "!pip install datasets"
      ],
      "metadata": {
        "id": "mO0-NPUUsp45"
      },
      "execution_count": null,
      "outputs": []
    },
    {
      "cell_type": "code",
      "source": [
        "from transformers import Wav2Vec2BertModel, AutoFeatureExtractor\n",
        "import torch\n",
        "from datasets import load_dataset\n",
        "\n",
        "# Carica il dataset\n",
        "dataset = load_dataset(\"hf-internal-testing/librispeech_asr_demo\", \"clean\", split=\"validation\")\n",
        "dataset = dataset.sort(\"id\")\n",
        "sampling_rate = dataset.features[\"audio\"].sampling_rate\n",
        "\n",
        "# Carica il modello e l'estrattore di feature\n",
        "processor = AutoFeatureExtractor.from_pretrained(\"facebook/w2v-bert-2.0\")\n",
        "model = Wav2Vec2BertModel.from_pretrained(\"facebook/w2v-bert-2.0\")\n",
        "\n",
        "inputs = processor(dataset[0][\"audio\"][\"array\"], sampling_rate=sampling_rate, return_tensors=\"pt\")"
      ],
      "metadata": {
        "id": "8t_HN1fc08DB"
      },
      "execution_count": null,
      "outputs": []
    },
    {
      "cell_type": "code",
      "source": [
        "dataset[0][\"audio\"][\"array\"]"
      ],
      "metadata": {
        "colab": {
          "base_uri": "https://localhost:8080/"
        },
        "id": "yYSBSSvJBBCJ",
        "outputId": "84e31e71-8230-4d6f-c539-21852e3b2c9a"
      },
      "execution_count": 17,
      "outputs": [
        {
          "output_type": "execute_result",
          "data": {
            "text/plain": [
              "array([0.00238037, 0.0020752 , 0.00198364, ..., 0.00042725, 0.00057983,\n",
              "       0.0010376 ])"
            ]
          },
          "metadata": {},
          "execution_count": 17
        }
      ]
    },
    {
      "cell_type": "code",
      "source": [
        "outputs = model(inputs['input_features'], output_hidden_states=True, return_dict=True)\n",
        "seventh_layer_output = outputs.hidden_states[6]\n",
        "seventh_layer_output\n"
      ],
      "metadata": {
        "id": "IHGPsG_U8Hx3"
      },
      "execution_count": 6,
      "outputs": []
    },
    {
      "cell_type": "code",
      "source": [
        "seventh_layer_output\n"
      ],
      "metadata": {
        "colab": {
          "base_uri": "https://localhost:8080/"
        },
        "id": "cFqwV1nw94Ei",
        "outputId": "60bf8e43-b13f-4d5e-c99e-7fd2821fca59"
      },
      "execution_count": 10,
      "outputs": [
        {
          "output_type": "execute_result",
          "data": {
            "text/plain": [
              "tensor([[[-0.1476,  0.0026, -0.2191,  ..., -0.3142, -0.1849, -0.2700],\n",
              "         [-0.0255,  0.1388,  0.1583,  ..., -0.0269,  0.2433, -0.2006],\n",
              "         [ 0.0260,  0.1063,  0.0102,  ..., -0.0240, -0.0181, -0.0301],\n",
              "         ...,\n",
              "         [ 0.2395,  0.1679,  0.1687,  ..., -0.2784,  0.0184, -0.0730],\n",
              "         [ 0.1917,  0.2821,  0.2182,  ..., -0.2251, -0.0072,  0.0939],\n",
              "         [ 0.2303,  0.0882, -0.2248,  ..., -0.2103,  0.0014,  0.0202]]])"
            ]
          },
          "metadata": {},
          "execution_count": 10
        }
      ]
    },
    {
      "cell_type": "code",
      "source": [
        "seventh_layer_output.shape"
      ],
      "metadata": {
        "colab": {
          "base_uri": "https://localhost:8080/"
        },
        "id": "DnS2tSN-5U81",
        "outputId": "00941c2f-d6cc-4d8c-8fcb-dfda76512bd5"
      },
      "execution_count": 12,
      "outputs": [
        {
          "output_type": "execute_result",
          "data": {
            "text/plain": [
              "torch.Size([1, 292, 1024])"
            ]
          },
          "metadata": {},
          "execution_count": 12
        }
      ]
    }
  ]
}