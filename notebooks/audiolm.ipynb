{
 "cells": [
  {
   "cell_type": "code",
   "execution_count": 19,
   "metadata": {},
   "outputs": [
    {
     "name": "stderr",
     "output_type": "stream",
     "text": [
      "c:\\Users\\josed\\Documents\\AudioLM\\.venv\\lib\\site-packages\\torch\\nn\\utils\\weight_norm.py:28: UserWarning: torch.nn.utils.weight_norm is deprecated in favor of torch.nn.utils.parametrizations.weight_norm.\n",
      "  warnings.warn(\"torch.nn.utils.weight_norm is deprecated in favor of torch.nn.utils.parametrizations.weight_norm.\")\n",
      "c:\\Users\\josed\\Documents\\AudioLM\\.venv\\lib\\site-packages\\sklearn\\base.py:376: InconsistentVersionWarning: Trying to unpickle estimator MiniBatchKMeans from version 0.24.0 when using version 1.4.2. This might lead to breaking code or invalid results. Use at your own risk. For more info please refer to:\n",
      "https://scikit-learn.org/stable/model_persistence.html#security-maintainability-limitations\n",
      "  warnings.warn(\n",
      "c:\\Users\\josed\\Documents\\AudioLM\\.venv\\lib\\site-packages\\huggingface_hub\\file_download.py:1132: FutureWarning: `resume_download` is deprecated and will be removed in version 1.0.0. Downloads always resume when possible. If you want to force a new download, use `force_download=True`.\n",
      "  warnings.warn(\n",
      "c:\\Users\\josed\\Documents\\AudioLM\\.venv\\lib\\site-packages\\transformers\\models\\encodec\\modeling_encodec.py:123: UserWarning: To copy construct from a tensor, it is recommended to use sourceTensor.clone().detach() or sourceTensor.clone().detach().requires_grad_(True), rather than torch.tensor(sourceTensor).\n",
      "  self.register_buffer(\"padding_total\", torch.tensor(kernel_size - stride, dtype=torch.int64), persistent=False)\n",
      "c:\\Users\\josed\\Documents\\AudioLM\\.venv\\lib\\site-packages\\gradio\\utils.py:985: UserWarning: Expected 2 arguments for function <function <lambda> at 0x0000027FE2681790>, received 1.\n",
      "  warnings.warn(\n",
      "c:\\Users\\josed\\Documents\\AudioLM\\.venv\\lib\\site-packages\\gradio\\utils.py:989: UserWarning: Expected at least 2 arguments for function <function <lambda> at 0x0000027FE2681790>, received 1.\n",
      "  warnings.warn(\n",
      "2024-05-19 23:52:32 | INFO | httpx | HTTP Request: GET http://127.0.0.1:7872/startup-events \"HTTP/1.1 200 OK\"\n",
      "2024-05-19 23:52:32 | INFO | httpx | HTTP Request: HEAD http://127.0.0.1:7872/ \"HTTP/1.1 200 OK\"\n"
     ]
    },
    {
     "name": "stdout",
     "output_type": "stream",
     "text": [
      "Running on local URL:  http://127.0.0.1:7872\n",
      "\n",
      "To create a public link, set `share=True` in `launch()`.\n"
     ]
    },
    {
     "data": {
      "text/html": [
       "<div><iframe src=\"http://127.0.0.1:7872/\" width=\"100%\" height=\"500\" allow=\"autoplay; camera; microphone; clipboard-read; clipboard-write;\" frameborder=\"0\" allowfullscreen></iframe></div>"
      ],
      "text/plain": [
       "<IPython.core.display.HTML object>"
      ]
     },
     "metadata": {},
     "output_type": "display_data"
    },
    {
     "data": {
      "text/plain": []
     },
     "execution_count": 19,
     "metadata": {},
     "output_type": "execute_result"
    },
    {
     "name": "stderr",
     "output_type": "stream",
     "text": [
      "2024-05-19 23:52:32 | INFO | httpx | HTTP Request: GET https://api.gradio.app/pkg-version \"HTTP/1.1 200 OK\"\n",
      "c:\\Users\\josed\\Documents\\AudioLM\\.venv\\lib\\site-packages\\gradio\\helpers.py:947: UserWarning: Unexpected argument. Filling with None.\n",
      "  warnings.warn(\"Unexpected argument. Filling with None.\")\n"
     ]
    },
    {
     "name": "stdout",
     "output_type": "stream",
     "text": [
      "None None\n"
     ]
    },
    {
     "name": "stderr",
     "output_type": "stream",
     "text": [
      "ERROR:    Exception in ASGI application\n",
      "Traceback (most recent call last):\n",
      "  File \"c:\\Users\\josed\\Documents\\AudioLM\\.venv\\lib\\site-packages\\uvicorn\\protocols\\http\\httptools_impl.py\", line 411, in run_asgi\n",
      "    result = await app(  # type: ignore[func-returns-value]\n",
      "  File \"c:\\Users\\josed\\Documents\\AudioLM\\.venv\\lib\\site-packages\\uvicorn\\middleware\\proxy_headers.py\", line 69, in __call__\n",
      "    return await self.app(scope, receive, send)\n",
      "  File \"c:\\Users\\josed\\Documents\\AudioLM\\.venv\\lib\\site-packages\\fastapi\\applications.py\", line 1054, in __call__\n",
      "    await super().__call__(scope, receive, send)\n",
      "  File \"c:\\Users\\josed\\Documents\\AudioLM\\.venv\\lib\\site-packages\\starlette\\applications.py\", line 123, in __call__\n",
      "    await self.middleware_stack(scope, receive, send)\n",
      "  File \"c:\\Users\\josed\\Documents\\AudioLM\\.venv\\lib\\site-packages\\starlette\\middleware\\errors.py\", line 186, in __call__\n",
      "    raise exc\n",
      "  File \"c:\\Users\\josed\\Documents\\AudioLM\\.venv\\lib\\site-packages\\starlette\\middleware\\errors.py\", line 164, in __call__\n",
      "    await self.app(scope, receive, _send)\n",
      "  File \"c:\\Users\\josed\\Documents\\AudioLM\\.venv\\lib\\site-packages\\gradio\\route_utils.py\", line 707, in __call__\n",
      "    await self.app(scope, receive, send)\n",
      "  File \"c:\\Users\\josed\\Documents\\AudioLM\\.venv\\lib\\site-packages\\starlette\\middleware\\exceptions.py\", line 65, in __call__\n",
      "    await wrap_app_handling_exceptions(self.app, conn)(scope, receive, send)\n",
      "  File \"c:\\Users\\josed\\Documents\\AudioLM\\.venv\\lib\\site-packages\\starlette\\_exception_handler.py\", line 64, in wrapped_app\n",
      "    raise exc\n",
      "  File \"c:\\Users\\josed\\Documents\\AudioLM\\.venv\\lib\\site-packages\\starlette\\_exception_handler.py\", line 53, in wrapped_app\n",
      "    await app(scope, receive, sender)\n",
      "  File \"c:\\Users\\josed\\Documents\\AudioLM\\.venv\\lib\\site-packages\\starlette\\routing.py\", line 756, in __call__\n",
      "    await self.middleware_stack(scope, receive, send)\n",
      "  File \"c:\\Users\\josed\\Documents\\AudioLM\\.venv\\lib\\site-packages\\starlette\\routing.py\", line 776, in app\n",
      "    await route.handle(scope, receive, send)\n",
      "  File \"c:\\Users\\josed\\Documents\\AudioLM\\.venv\\lib\\site-packages\\starlette\\routing.py\", line 297, in handle\n",
      "    await self.app(scope, receive, send)\n",
      "  File \"c:\\Users\\josed\\Documents\\AudioLM\\.venv\\lib\\site-packages\\starlette\\routing.py\", line 77, in app\n",
      "    await wrap_app_handling_exceptions(app, request)(scope, receive, send)\n",
      "  File \"c:\\Users\\josed\\Documents\\AudioLM\\.venv\\lib\\site-packages\\starlette\\_exception_handler.py\", line 64, in wrapped_app\n",
      "    raise exc\n",
      "  File \"c:\\Users\\josed\\Documents\\AudioLM\\.venv\\lib\\site-packages\\starlette\\_exception_handler.py\", line 53, in wrapped_app\n",
      "    await app(scope, receive, sender)\n",
      "  File \"c:\\Users\\josed\\Documents\\AudioLM\\.venv\\lib\\site-packages\\starlette\\routing.py\", line 75, in app\n",
      "    await response(scope, receive, send)\n",
      "  File \"c:\\Users\\josed\\Documents\\AudioLM\\.venv\\lib\\site-packages\\starlette\\responses.py\", line 352, in __call__\n",
      "    await send(\n",
      "  File \"c:\\Users\\josed\\Documents\\AudioLM\\.venv\\lib\\site-packages\\starlette\\_exception_handler.py\", line 50, in sender\n",
      "    await send(message)\n",
      "  File \"c:\\Users\\josed\\Documents\\AudioLM\\.venv\\lib\\site-packages\\starlette\\_exception_handler.py\", line 50, in sender\n",
      "    await send(message)\n",
      "  File \"c:\\Users\\josed\\Documents\\AudioLM\\.venv\\lib\\site-packages\\starlette\\middleware\\errors.py\", line 161, in _send\n",
      "    await send(message)\n",
      "  File \"c:\\Users\\josed\\Documents\\AudioLM\\.venv\\lib\\site-packages\\uvicorn\\protocols\\http\\httptools_impl.py\", line 541, in send\n",
      "    raise RuntimeError(\"Response content longer than Content-Length\")\n",
      "RuntimeError: Response content longer than Content-Length\n"
     ]
    },
    {
     "name": "stdout",
     "output_type": "stream",
     "text": [
      "(48000, array([ -523264,  -481024,  -435968, ..., 12931840, 12788736,        0],\n",
      "      dtype=int32)) None\n",
      "(48000, array([ -523264,  -481024,  -435968, ..., 12931840, 12788736,        0],\n",
      "      dtype=int32)) None\n"
     ]
    }
   ],
   "source": [
    "import gradio as gr\n",
    "from audiolm.model import AudioLM\n",
    "import os\n",
    "from pathlib import Path\n",
    "import torch\n",
    "import numpy as np\n",
    "\n",
    "audiolm_instance = AudioLM.from_pretrained(Path(os.getcwd() + \"\\\\..\\\\data\\\\\"))\n",
    "def generate(audio):\n",
    "    sr, x = audio\n",
    "    return audiolm_instance.generate(x)\n",
    "# Create the Gradio interface\n",
    "audiolm_app = gr.Interface(\n",
    "    fn=lambda sr,audio: print(sr,audio),#audiolm_instance.generate(audio),\n",
    "    inputs=gr.Audio(sources=[\"microphone\",\"upload\"]),\n",
    "    outputs=gr.Audio(),\n",
    "    title=\"AudioLM\",\n",
    "    description=\"Upload an audio file to reverse its content.\"\n",
    ")\n",
    "\n",
    "\n",
    "audiolm_app.launch()"
   ]
  },
  {
   "cell_type": "code",
   "execution_count": 4,
   "metadata": {},
   "outputs": [
    {
     "data": {
      "text/plain": [
       "WindowsPath('c:/Users/josed/Documents/AudioLM/notebooks/../data')"
      ]
     },
     "execution_count": 4,
     "metadata": {},
     "output_type": "execute_result"
    }
   ],
   "source": [
    "Path(os.getcwd() + \"\\\\..\\\\data\\\\\")"
   ]
  }
 ],
 "metadata": {
  "kernelspec": {
   "display_name": ".venv",
   "language": "python",
   "name": "python3"
  },
  "language_info": {
   "codemirror_mode": {
    "name": "ipython",
    "version": 3
   },
   "file_extension": ".py",
   "mimetype": "text/x-python",
   "name": "python",
   "nbconvert_exporter": "python",
   "pygments_lexer": "ipython3",
   "version": "3.9.9"
  }
 },
 "nbformat": 4,
 "nbformat_minor": 2
}
